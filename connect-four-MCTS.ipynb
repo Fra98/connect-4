{
 "cells": [
  {
   "cell_type": "markdown",
   "metadata": {},
   "source": [
    "# Connect 4"
   ]
  },
  {
   "cell_type": "code",
   "execution_count": 9,
   "metadata": {},
   "outputs": [],
   "source": [
    "from collections import Counter\n",
    "import numpy as np"
   ]
  },
  {
   "cell_type": "code",
   "execution_count": 10,
   "metadata": {},
   "outputs": [],
   "source": [
    "NUM_COLUMNS = 7\n",
    "COLUMN_HEIGHT = 6\n",
    "FOUR = 4\n",
    "\n",
    "# Board can be initiatilized with `board = np.zeros((NUM_COLUMNS, COLUMN_HEIGHT), dtype=np.byte)`\n",
    "# Notez Bien: Connect 4 \"columns\" are actually NumPy \"rows\""
   ]
  },
  {
   "cell_type": "markdown",
   "metadata": {},
   "source": [
    "## Basic Functions"
   ]
  },
  {
   "cell_type": "code",
   "execution_count": 11,
   "metadata": {},
   "outputs": [],
   "source": [
    "def valid_moves(board):\n",
    "    \"\"\"Returns columns where a disc may be played\"\"\"\n",
    "    return [n for n in range(NUM_COLUMNS) if board[n, COLUMN_HEIGHT - 1] == 0]\n",
    "\n",
    "\n",
    "def play(board, column, player):\n",
    "    \"\"\"Updates `board` as `player` drops a disc in `column`\"\"\"\n",
    "    (index,) = next((i for i, v in np.ndenumerate(board[column]) if v == 0))\n",
    "    board[column, index] = player\n",
    "\n",
    "\n",
    "def take_back(board, column):\n",
    "    \"\"\"Updates `board` removing top disc from `column`\"\"\"\n",
    "    (index,) = [i for i, v in np.ndenumerate(board[column]) if v != 0][-1]\n",
    "    board[column, index] = 0\n",
    "\n",
    "\n",
    "def four_in_a_row(board, player):\n",
    "    \"\"\"Checks if `player` has a 4-piece line\"\"\"\n",
    "    return (\n",
    "        any(\n",
    "            all(board[c, r] == player)\n",
    "            for c in range(NUM_COLUMNS)\n",
    "            for r in (list(range(n, n + FOUR)) for n in range(COLUMN_HEIGHT - FOUR + 1))\n",
    "        )\n",
    "        or any(\n",
    "            all(board[c, r] == player)\n",
    "            for r in range(COLUMN_HEIGHT)\n",
    "            for c in (list(range(n, n + FOUR)) for n in range(NUM_COLUMNS - FOUR + 1))\n",
    "        )\n",
    "        or any(\n",
    "            np.all(board[diag] == player)\n",
    "            for diag in (\n",
    "                (range(ro, ro + FOUR), range(co, co + FOUR))\n",
    "                for ro in range(0, NUM_COLUMNS - FOUR + 1)\n",
    "                for co in range(0, COLUMN_HEIGHT - FOUR + 1)\n",
    "            )\n",
    "        )\n",
    "        or any(\n",
    "            np.all(board[diag] == player)\n",
    "            for diag in (\n",
    "                (range(ro, ro + FOUR), range(co + FOUR - 1, co - 1, -1))\n",
    "                for ro in range(0, NUM_COLUMNS - FOUR + 1)\n",
    "                for co in range(0, COLUMN_HEIGHT - FOUR + 1)\n",
    "            )\n",
    "        )\n",
    "    )\n",
    "\n",
    "def _mc(board, player):\n",
    "    p = -player\n",
    "    while valid_moves(board):\n",
    "        p = -p\n",
    "        c = np.random.choice(valid_moves(board))\n",
    "        play(board, c, p)\n",
    "        if four_in_a_row(board, p):\n",
    "            return p\n",
    "    return 0\n",
    "\n",
    "\n",
    "def montecarlo(board, player):\n",
    "    montecarlo_samples = 100\n",
    "    cnt = Counter(_mc(np.copy(board), player) for _ in range(montecarlo_samples))\n",
    "    return (cnt[1] - cnt[-1]) / montecarlo_samples\n",
    "\n",
    "\n",
    "def eval_board(board, player):\n",
    "    if four_in_a_row(board, 1):\n",
    "        # Alice won\n",
    "        return 1\n",
    "    elif four_in_a_row(board, -1):\n",
    "        # Bob won\n",
    "        return -1\n",
    "    else:\n",
    "        # Not terminal, let's simulate...\n",
    "        return montecarlo(board, player)"
   ]
  },
  {
   "cell_type": "markdown",
   "metadata": {},
   "source": [
    "### Author: Fra98\n",
    "### Four-Connect solver with MinMax (+AlphaBeta Pruning) + Montecarlo tree exploration\n"
   ]
  },
  {
   "cell_type": "code",
   "execution_count": 12,
   "metadata": {},
   "outputs": [],
   "source": [
    "PLAYERS = {1: \"A\", -1: \"B\"}\n",
    "MAX_ROUNDS = NUM_COLUMNS * COLUMN_HEIGHT\n",
    "NUM_ITERATIONS = 100"
   ]
  },
  {
   "cell_type": "markdown",
   "metadata": {},
   "source": [
    "### Auxiliary Functions"
   ]
  },
  {
   "cell_type": "code",
   "execution_count": 13,
   "metadata": {},
   "outputs": [],
   "source": [
    "def initialize_board():\n",
    "    return np.zeros((NUM_COLUMNS, COLUMN_HEIGHT), dtype=np.byte)\n",
    "    \n",
    "def display(board):\n",
    "    for j in reversed(range(COLUMN_HEIGHT)):\n",
    "        for i in range(NUM_COLUMNS):\n",
    "            cell = board[i][j]\n",
    "            if cell == 1:\n",
    "                print(PLAYERS[1], end=\" \")\n",
    "            elif cell == -1:\n",
    "                print(PLAYERS[-1], end=\" \")\n",
    "            else:\n",
    "                print(\"-\", end=\" \")\n",
    "        print()\n",
    "\n",
    "\n",
    "def round_number(board):\n",
    "    return np.count_nonzero(board)"
   ]
  },
  {
   "cell_type": "markdown",
   "metadata": {},
   "source": [
    "## MCTS"
   ]
  },
  {
   "cell_type": "code",
   "execution_count": 16,
   "metadata": {},
   "outputs": [],
   "source": [
    "class Node:\n",
    "    def __init__(self, board: np.ndarray = None, parent = None, move: int = None):\n",
    "        self.board = np.copy(board)\n",
    "        self.parent = parent\n",
    "        self.childs = []\n",
    "        self.move = move        # move that brought in this state\n",
    "        self.num_visits = 0\n",
    "        self.num_wins = 0\n",
    "        self.next_moves = valid_moves(board)\n"
   ]
  },
  {
   "cell_type": "code",
   "execution_count": null,
   "metadata": {},
   "outputs": [],
   "source": [
    "def MCTS(board: np.ndarray, player: int, num_iterations: int = NUM_ITERATIONS):\n",
    "    root = Node(board, parent=None, move=None)\n",
    "\n",
    "    for _ in range(NUM_ITERATIONS):\n",
    "        #  SELECTION\n",
    "        pass\n",
    "\n",
    "    return 0"
   ]
  },
  {
   "cell_type": "markdown",
   "metadata": {},
   "source": [
    "### Choosing Move"
   ]
  },
  {
   "cell_type": "code",
   "execution_count": 84,
   "metadata": {},
   "outputs": [],
   "source": [
    "def choose_move(board: np.ndarray, player: int):\n",
    "    # FIRST/SECOND MOVE -> always play central\n",
    "    if not board.any() or round_number(board) == 1:\n",
    "        play(board, 3, player)\n",
    "        return 3\n",
    "\n",
    "    # THIRD MOVE -> always play in one of the 3 cells in the center\n",
    "    if round_number(board) == 2:\n",
    "        move = np.random.choice([2, 3, 4])\n",
    "        play(board, move, player)\n",
    "        return move\n",
    "\n",
    "    # MINMAX \n",
    "    _, move = MCTS(board, player, NUM_ITERATIONS)\n",
    "\n",
    "    if move is not None:\n",
    "        play(board, move, player)\n",
    "\n",
    "    return move"
   ]
  },
  {
   "cell_type": "markdown",
   "metadata": {},
   "source": [
    "## Simulation examples"
   ]
  },
  {
   "cell_type": "markdown",
   "metadata": {},
   "source": [
    "### AI vs AI"
   ]
  },
  {
   "cell_type": "code",
   "execution_count": 86,
   "metadata": {},
   "outputs": [
    {
     "name": "stdout",
     "output_type": "stream",
     "text": [
      "A TURN -> 4\n",
      "- - - - - - - \n",
      "- - - - - - - \n",
      "- - - - - - - \n",
      "- - - - - - - \n",
      "- - - - - - - \n",
      "- - - A - - - \n",
      "\n",
      "B TURN -> 4\n",
      "- - - - - - - \n",
      "- - - - - - - \n",
      "- - - - - - - \n",
      "- - - - - - - \n",
      "- - - B - - - \n",
      "- - - A - - - \n",
      "\n",
      "A TURN -> 3\n",
      "- - - - - - - \n",
      "- - - - - - - \n",
      "- - - - - - - \n",
      "- - - - - - - \n",
      "- - - B - - - \n",
      "- - A A - - - \n",
      "\n",
      "B TURN -> 5\n",
      "- - - - - - - \n",
      "- - - - - - - \n",
      "- - - - - - - \n",
      "- - - - - - - \n",
      "- - - B - - - \n",
      "- - A A B - - \n",
      "\n",
      "A TURN -> 1\n",
      "- - - - - - - \n",
      "- - - - - - - \n",
      "- - - - - - - \n",
      "- - - - - - - \n",
      "- - - B - - - \n",
      "A - A A B - - \n",
      "\n",
      "B TURN -> 2\n",
      "- - - - - - - \n",
      "- - - - - - - \n",
      "- - - - - - - \n",
      "- - - - - - - \n",
      "- - - B - - - \n",
      "A B A A B - - \n",
      "\n"
     ]
    }
   ],
   "source": [
    "def main_AI_vs_AI():\n",
    "    board = initialize_board()\n",
    "    player = 1\n",
    "\n",
    "    while True:\n",
    "        move = choose_move(board, player)\n",
    "\n",
    "        if move is None:\n",
    "            print(\"DRAW\")\n",
    "            return\n",
    "\n",
    "        print(f\"{PLAYERS[player]} TURN -> {move + 1}\")\n",
    "        display(board)\n",
    "\n",
    "        if four_in_a_row(board, player):\n",
    "            print(f\"\\nPlayer {PLAYERS[player]} WON\")\n",
    "            return\n",
    "\n",
    "        print()\n",
    "        player = -player\n",
    "\n",
    "\n",
    "main_AI_vs_AI()"
   ]
  },
  {
   "cell_type": "markdown",
   "metadata": {},
   "source": [
    "### Human vs AI"
   ]
  },
  {
   "cell_type": "code",
   "execution_count": null,
   "metadata": {},
   "outputs": [],
   "source": [
    "def main_human_vs_AI():\n",
    "    board = initialize_board()\n",
    "    player = np.random.choice([-1, 1])\n",
    "\n",
    "    while True:\n",
    "        if player == 1:\n",
    "            move = choose_move(board, player, max_depth=MAX_DEPTH)\n",
    "        else:\n",
    "            move = int(input(\"Enter column number (1-7): \"))\n",
    "            play(board, move-1, player)\n",
    "\n",
    "        if move is None:\n",
    "            print(\"DRAW\")\n",
    "            return\n",
    "\n",
    "        print(f\"{PLAYERS[player]} TURN -> {move + 1}\")\n",
    "        display(board)\n",
    "\n",
    "        if four_in_a_row(board, player):\n",
    "            print(f\"\\nPlayer {PLAYERS[player]} WON\")\n",
    "            return\n",
    "\n",
    "        print()\n",
    "        player = -player\n",
    "\n",
    "\n",
    "main_human_vs_AI()"
   ]
  }
 ],
 "metadata": {
  "interpreter": {
   "hash": "371627151b0642f6c185c280fa16312776bda89bbb063ce0f2d8135c657194f4"
  },
  "kernelspec": {
   "display_name": "Python 3.8.2 64-bit ('ci2021': conda)",
   "name": "python3"
  },
  "language_info": {
   "codemirror_mode": {
    "name": "ipython",
    "version": 3
   },
   "file_extension": ".py",
   "mimetype": "text/x-python",
   "name": "python",
   "nbconvert_exporter": "python",
   "pygments_lexer": "ipython3",
   "version": "3.9.7"
  },
  "orig_nbformat": 4
 },
 "nbformat": 4,
 "nbformat_minor": 2
}
